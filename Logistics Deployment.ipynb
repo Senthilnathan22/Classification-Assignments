{
 "cells": [
  {
   "cell_type": "code",
   "execution_count": 1,
   "id": "27c2a851-9cf7-4b05-8a5a-a77ebdc25657",
   "metadata": {},
   "outputs": [],
   "source": [
    "import pickle\n",
    "import pandas as pd"
   ]
  },
  {
   "cell_type": "code",
   "execution_count": 2,
   "id": "7eb4dead-648b-4578-87ee-d98a3f28af99",
   "metadata": {},
   "outputs": [],
   "source": [
    "dataset=pd.read_csv(\"CKD.csv\")"
   ]
  },
  {
   "cell_type": "code",
   "execution_count": 3,
   "id": "0f44676f-0028-4239-b0a9-367ffb8eb991",
   "metadata": {},
   "outputs": [],
   "source": [
    "dataset=pd.get_dummies(dataset, drop_first=True, dtype=int)\n",
    "indep=dataset[['age', 'bp', 'al', 'su', 'bgr', 'bu', 'sc', 'sod', 'pot', 'hrmo', 'pcv',\n",
    "       'wc', 'rc', 'sg_b', 'sg_c', 'sg_d', 'sg_e', 'rbc_normal', 'pc_normal',\n",
    "       'pcc_present', 'ba_present', 'htn_yes', 'dm_yes', 'cad_yes',\n",
    "       'appet_yes', 'pe_yes', 'ane_yes']]\n",
    "depe=dataset[['classification_yes']]"
   ]
  },
  {
   "cell_type": "code",
   "execution_count": 4,
   "id": "14989e46-5242-4628-8a83-15feeddaefb5",
   "metadata": {},
   "outputs": [],
   "source": [
    "from sklearn.model_selection import train_test_split\n",
    "X_train, X_test, y_train, y_test=train_test_split(indep, depe, test_size=1/3, random_state=0)"
   ]
  },
  {
   "cell_type": "code",
   "execution_count": 6,
   "id": "fa1c4b76-0440-410a-89d7-0078c7eaa873",
   "metadata": {},
   "outputs": [],
   "source": [
    "from sklearn.preprocessing import StandardScaler\n",
    "sc=StandardScaler()\n",
    "X_train=sc.fit_transform(X_train)\n",
    "X_test=sc.transform(X_test)"
   ]
  },
  {
   "cell_type": "code",
   "execution_count": 7,
   "id": "d88160c2-c27e-42f1-b1af-7880d2112352",
   "metadata": {},
   "outputs": [
    {
     "name": "stdin",
     "output_type": "stream",
     "text": [
      "Age: 8\n",
      "BP: 60\n",
      "AL: 3.0\n",
      "SU: 0.0\n",
      "BGR: 78\n",
      "BU: 27\n",
      "SC: 0.9\n",
      "SOD: 137.528754\n",
      "POT: 4.62724359\n",
      "HRMO: 12.3\n",
      "PCV: 41\n",
      "WC: 6700\n",
      "RC: 4.705597015\n",
      "SG_B: 1\n",
      "SG_C: 0\n",
      "SG_D: 0\n",
      "SG_E: 0\n",
      "RBC: 1\n",
      "PC: 1\n",
      "PCC: 0\n",
      "BA: 0\n",
      "HTN: 0\n",
      "DM: 0\n",
      "CAD: 0\n",
      "APPET: 0\n",
      "PE: 1\n",
      "ANE: 0\n"
     ]
    }
   ],
   "source": [
    "age_input=float(input(\"Age:\"))\n",
    "bp_input=float(input(\"BP:\"))\n",
    "al_input=float(input(\"AL:\"))\n",
    "su_input=float(input(\"SU:\"))\n",
    "bgr_input=float(input(\"BGR:\"))\n",
    "bu_input=float(input(\"BU:\"))\n",
    "sc_input=float(input(\"SC:\"))\n",
    "sod_input=float(input(\"SOD:\"))\n",
    "pot_input=float(input(\"POT:\"))\n",
    "hrmo_input=float(input(\"HRMO:\"))\n",
    "pcv_input=float(input(\"PCV:\"))\n",
    "wc_input=float(input(\"WC:\"))\n",
    "rc_input=float(input(\"RC:\"))\n",
    "sg_b_input=float(input(\"SG_B:\"))\n",
    "sg_c_input=float(input(\"SG_C:\"))\n",
    "sg_d_input=float(input(\"SG_D:\"))\n",
    "sg_e_input=float(input(\"SG_E:\"))\n",
    "rbc_normal_input=float(input(\"RBC:\"))\n",
    "pc_normal_input=float(input(\"PC:\"))\n",
    "pcc_present_input=float(input(\"PCC:\"))\n",
    "ba_present_input=float(input(\"BA:\"))\n",
    "htn_yes_input=float(input(\"HTN:\"))\n",
    "dm_yes_input=float(input(\"DM:\"))\n",
    "cad_yes_input=float(input(\"CAD:\"))\n",
    "appet_yes_input=float(input(\"APPET:\"))\n",
    "pe_yes_input=float(input(\"PE:\"))\n",
    "ane_yes_input=float(input(\"ANE:\"))"
   ]
  },
  {
   "cell_type": "code",
   "execution_count": 8,
   "id": "151f38ae-1189-4fd3-a7a3-33c1917186c7",
   "metadata": {},
   "outputs": [
    {
     "name": "stderr",
     "output_type": "stream",
     "text": [
      "C:\\Users\\Bagirathan\\anaconda3\\Lib\\site-packages\\sklearn\\base.py:493: UserWarning: X does not have valid feature names, but StandardScaler was fitted with feature names\n",
      "  warnings.warn(\n"
     ]
    }
   ],
   "source": [
    "preinput=sc.transform([[age_input, bp_input, al_input, su_input, bgr_input, bu_input, sc_input, sod_input, pot_input, hrmo_input, pcv_input,\n",
    "       wc_input, rc_input, sg_b_input, sg_c_input, sg_d_input, sg_e_input, rbc_normal_input, pc_normal_input,\n",
    "       pcc_present_input, ba_present_input, htn_yes_input, dm_yes_input, cad_yes_input,\n",
    "       appet_yes_input, pe_yes_input, ane_yes_input]])"
   ]
  },
  {
   "cell_type": "code",
   "execution_count": 9,
   "id": "625e812e-03f3-42ab-8b96-999c0925ebe6",
   "metadata": {},
   "outputs": [],
   "source": [
    "load_model=pickle.load(open(\"Logistics_CL.sav\",\"rb\"))\n",
    "result=load_model.predict(preinput)"
   ]
  },
  {
   "cell_type": "code",
   "execution_count": 10,
   "id": "8a6753b0-1bd7-4d47-adac-d8a8b46f353b",
   "metadata": {},
   "outputs": [
    {
     "data": {
      "text/plain": [
       "array([1])"
      ]
     },
     "execution_count": 10,
     "metadata": {},
     "output_type": "execute_result"
    }
   ],
   "source": [
    "result"
   ]
  },
  {
   "cell_type": "code",
   "execution_count": null,
   "id": "dc45f2f6-c2ba-4b4c-8cdd-058147fc9ca6",
   "metadata": {},
   "outputs": [],
   "source": []
  }
 ],
 "metadata": {
  "kernelspec": {
   "display_name": "Python 3 (ipykernel)",
   "language": "python",
   "name": "python3"
  },
  "language_info": {
   "codemirror_mode": {
    "name": "ipython",
    "version": 3
   },
   "file_extension": ".py",
   "mimetype": "text/x-python",
   "name": "python",
   "nbconvert_exporter": "python",
   "pygments_lexer": "ipython3",
   "version": "3.12.7"
  }
 },
 "nbformat": 4,
 "nbformat_minor": 5
}
