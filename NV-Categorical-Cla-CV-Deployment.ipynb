{
 "cells": [
  {
   "cell_type": "code",
   "execution_count": 1,
   "id": "c505c5bd-31a6-4015-95f6-6233ac1e8874",
   "metadata": {},
   "outputs": [],
   "source": [
    "import pickle\n",
    "import pandas as pd"
   ]
  },
  {
   "cell_type": "code",
   "execution_count": null,
   "id": "ed2e3c24-7d51-448e-afeb-0159dc4d3edf",
   "metadata": {},
   "outputs": [],
   "source": [
    "dataset=pd.read_csv(\"CKD.csv\")"
   ]
  },
  {
   "cell_type": "code",
   "execution_count": null,
   "id": "42c9ef11-0af2-4b50-a6f1-03711259cf98",
   "metadata": {},
   "outputs": [],
   "source": [
    "dataset=pd.get_dummies(dataset, drop_first=True, dtype=int)\n",
    "indep=dataset[['age', 'bp', 'al', 'su', 'bgr', 'bu', 'sc', 'sod', 'pot', 'hrmo', 'pcv',\n",
    "       'wc', 'rc', 'sg_b', 'sg_c', 'sg_d', 'sg_e', 'rbc_normal', 'pc_normal',\n",
    "       'pcc_present', 'ba_present', 'htn_yes', 'dm_yes', 'cad_yes',\n",
    "       'appet_yes', 'pe_yes', 'ane_yes']]\n",
    "depe=dataset[['classification_yes']]"
   ]
  },
  {
   "cell_type": "code",
   "execution_count": 2,
   "id": "c6a1bd91-acf6-4501-9d14-d42a7f65017b",
   "metadata": {},
   "outputs": [],
   "source": [
    "model=pickle.load(open(\"Navie_Bayes.sav\", \"rb\"))"
   ]
  },
  {
   "cell_type": "code",
   "execution_count": 3,
   "id": "5334992c-e14a-42fa-8ecf-9c862e4c5b0a",
   "metadata": {},
   "outputs": [
    {
     "name": "stdin",
     "output_type": "stream",
     "text": [
      "Age: 5\n",
      "BP: 76.45994832\n",
      "AL: 1.0\n",
      "SU: 0.0\n",
      "BGR: 148.1126761\n",
      "BU: 16\n",
      "SC: 0.7\n",
      "SOD: 138\n",
      "POT: 3.2\n",
      "HRMO: 8.1\n",
      "PCV: 38.86890244\n",
      "WC: 8408.191126\n",
      "RC: 4.705597015\n",
      "SG_B: 0\n",
      "SG_C: 0\n",
      "SG_D: 1\n",
      "SG_E: 0\n",
      "RBC: 1\n",
      "PC: 1\n",
      "PCC: 0\n",
      "BA: 0\n",
      "HTN: 0\n",
      "DM: 0\n",
      "CAD: 0\n",
      "APPET: 1\n",
      "PE: 0\n",
      "ANE: 1\n"
     ]
    }
   ],
   "source": [
    "age_input=float(input(\"Age:\"))\n",
    "bp_input=float(input(\"BP:\"))\n",
    "al_input=float(input(\"AL:\"))\n",
    "su_input=float(input(\"SU:\"))\n",
    "bgr_input=float(input(\"BGR:\"))\n",
    "bu_input=float(input(\"BU:\"))\n",
    "sc_input=float(input(\"SC:\"))\n",
    "sod_input=float(input(\"SOD:\"))\n",
    "pot_input=float(input(\"POT:\"))\n",
    "hrmo_input=float(input(\"HRMO:\"))\n",
    "pcv_input=float(input(\"PCV:\"))\n",
    "wc_input=float(input(\"WC:\"))\n",
    "rc_input=float(input(\"RC:\"))\n",
    "sg_b_input=float(input(\"SG_B:\"))\n",
    "sg_c_input=float(input(\"SG_C:\"))\n",
    "sg_d_input=float(input(\"SG_D:\"))\n",
    "sg_e_input=float(input(\"SG_E:\"))\n",
    "rbc_normal_input=float(input(\"RBC:\"))\n",
    "pc_normal_input=float(input(\"PC:\"))\n",
    "pcc_present_input=float(input(\"PCC:\"))\n",
    "ba_present_input=float(input(\"BA:\"))\n",
    "htn_yes_input=float(input(\"HTN:\"))\n",
    "dm_yes_input=float(input(\"DM:\"))\n",
    "cad_yes_input=float(input(\"CAD:\"))\n",
    "appet_yes_input=float(input(\"APPET:\"))\n",
    "pe_yes_input=float(input(\"PE:\"))\n",
    "ane_yes_input=float(input(\"ANE:\"))"
   ]
  },
  {
   "cell_type": "code",
   "execution_count": 5,
   "id": "fa3d0aaf-9e22-4ac6-87ce-a69330bac77c",
   "metadata": {},
   "outputs": [
    {
     "name": "stdout",
     "output_type": "stream",
     "text": [
      "CKD_Prediction[1]:\n"
     ]
    },
    {
     "name": "stderr",
     "output_type": "stream",
     "text": [
      "C:\\Users\\Bagirathan\\anaconda3\\Lib\\site-packages\\sklearn\\base.py:493: UserWarning: X does not have valid feature names, but CategoricalNB was fitted with feature names\n",
      "  warnings.warn(\n"
     ]
    }
   ],
   "source": [
    "CKD_prediction=model.predict([[age_input, bp_input, al_input, su_input, bgr_input, bu_input, sc_input, sod_input, pot_input, hrmo_input, pcv_input,\n",
    "       wc_input, rc_input, sg_b_input, sg_c_input, sg_d_input, sg_e_input, rbc_normal_input, pc_normal_input,\n",
    "       pcc_present_input, ba_present_input, htn_yes_input, dm_yes_input, cad_yes_input,\n",
    "       appet_yes_input, pe_yes_input, ane_yes_input]])\n",
    "print(\"CKD_Prediction{}:\".format(CKD_prediction))"
   ]
  },
  {
   "cell_type": "code",
   "execution_count": null,
   "id": "4d1eca88-1ae0-4e42-9597-04e5b92306d2",
   "metadata": {},
   "outputs": [],
   "source": []
  }
 ],
 "metadata": {
  "kernelspec": {
   "display_name": "Python 3 (ipykernel)",
   "language": "python",
   "name": "python3"
  },
  "language_info": {
   "codemirror_mode": {
    "name": "ipython",
    "version": 3
   },
   "file_extension": ".py",
   "mimetype": "text/x-python",
   "name": "python",
   "nbconvert_exporter": "python",
   "pygments_lexer": "ipython3",
   "version": "3.12.7"
  }
 },
 "nbformat": 4,
 "nbformat_minor": 5
}
